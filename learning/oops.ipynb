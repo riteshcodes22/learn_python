{
 "cells": [
  {
   "cell_type": "markdown",
   "id": "b2deb862",
   "metadata": {},
   "source": [
    "<div style= \"background:#BDDDE4;color:#000;margin:20px;padding:20px;border: 4px solid #000;border-radius:8px;box-shadow : 8px 8px 0 #000;box-sizing:border-box;width:95%;font-family: 'Courier New', monospace; font-size:24px\">\n",
    "<h1 style= \"text-align:center;margin-bottom:0;padding:10px\"><b>Object Oriented Programming</b></h1>\n",
    "    <hr style= \"width:90%;margin-top:0\">\n",
    "    <ul>\n",
    "        <li>Object-oriented programming is a programming paradigm that bundles data and function into one individual unit.</li>\n",
    "        <li>OOP simplifies modelling real world concept.</li>\n",
    "        <li>Helps to make systems that are reusable and scalable.</li>\n",
    "        <li>We start by defining <b style= \"color:#E22F1D;\">Classes</b> which acts as blueprint for the objects we create from them.</li>\n",
    "        <li><b style= \"color:#E22F1D;\">Objects</b> are like real world things like a car, a student or a bank account that have \n",
    "            <ul>\n",
    "                <li><b style= \"color:#E22F1D;\">Attributes(properties)</b> like <i>color</i>, <i>name</i> or <i>balance.</i></li>\n",
    "                <li><b style= \"color:#E22F1D;\">Behaviors(method)</b> like <i>drive()</i>, <i>study()</i> or <i>withdraw().</i></li>\n",
    "            <ul>\n",
    "        </li>\n",
    "    </ul>\n",
    "</div>"
   ]
  },
  {
   "cell_type": "code",
   "execution_count": null,
   "id": "0b0ce532",
   "metadata": {},
   "outputs": [],
   "source": [
    "class Hero:\n",
    "    def __init__(self,name, power,health, max_health, about):\n",
    "        self.name = name\n",
    "        self.power = power\n",
    "        self.health = health\n",
    "        self.max_health = max_health\n",
    "        self.about = about\n",
    "\n",
    "    def __str__(self):\n",
    "        return f\"{self.name} is {self.about.lower()} with Power: {self.power}, Health: {self.health}/{self.max_health}\"\n",
    "    \n",
    "    def is_alive(self):\n",
    "        if self.health > 0:\n",
    "            return True\n",
    "        else:\n",
    "            return False\n",
    "\n",
    "    def attack(self,enemy):\n",
    "        enemy.health -= self.power\n",
    "        if enemy.health < 0:\n",
    "            enemy.health = 0\n",
    "        print(f\"{self.name} is attacking {enemy.name}\")\n",
    "        if not enemy.is_alive():\n",
    "            print(f\"{enemy.name} defeated by {self.name}\")\n",
    "        print(f\"{enemy.name}'s health is now {enemy.health}\")\n",
    "    \n",
    "    def heal(self):\n",
    "        heal_points = 15\n",
    "        if not self.is_alive():\n",
    "            print(f\"{self.name} is not alive and hence can't be healed\")\n",
    "        elif self.health == self.max_health:\n",
    "               print(f\"{self.name} is already at full health.\")\n",
    "        else:\n",
    "            temp = self.health\n",
    "            self.health += heal_points\n",
    "            if self.health > self.max_health:\n",
    "                self.health = self.max_health\n",
    "            print(f\"{self.name} is healed by {temp - self.health} points. Health is now {self.health}\")\n",
    "       \n",
    "\n",
    "hero1 = Hero(\"Ironblade\", power=20, health=100, max_health=100,\n",
    "             about=\"A balanced warrior with solid offense and defense.\")\n",
    "hero2 = Hero(\"Nightshade\", power=15, health=110, max_health=110,\n",
    "             about=\"A stealthy assassin with resilience and precision.\")"
   ]
  }
 ],
 "metadata": {
  "kernelspec": {
   "display_name": "venv",
   "language": "python",
   "name": "python3"
  },
  "language_info": {
   "codemirror_mode": {
    "name": "ipython",
    "version": 3
   },
   "file_extension": ".py",
   "mimetype": "text/x-python",
   "name": "python",
   "nbconvert_exporter": "python",
   "pygments_lexer": "ipython3",
   "version": "3.13.3"
  }
 },
 "nbformat": 4,
 "nbformat_minor": 5
}
