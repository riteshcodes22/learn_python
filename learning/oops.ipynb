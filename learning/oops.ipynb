{
 "cells": [
  {
   "cell_type": "code",
   "execution_count": null,
   "id": "ccfe5726",
   "metadata": {},
   "outputs": [],
   "source": []
  },
  {
   "cell_type": "markdown",
   "id": "e2980221",
   "metadata": {},
   "source": [
    "<div style= \"background:#BDDDE4;color: #000;margin:20px;padding:20px;border: 4px solid #000;border-radius:8px;box-shadow : 8px 8px 0 #000;box-sizing:border-box;width:95%;font-family: 'Courier New', monospace;\">\n",
    "    <ul><li>OOP simplifies modelling real world concept.</li>\n",
    "        <li>Helps to make system that are reusable and scalable.</li>\n",
    "        <li>We start by defining <b>classes</b> which acts as blueprint and then create Objects from them</li>\n",
    "        <li>Objects are like real world things that have Attributes(properties) and Behaviors(method).</li>\n",
    "    </ul>\n",
    "</div>"
   ]
  },
  {
   "cell_type": "code",
   "execution_count": null,
   "id": "0b0ce532",
   "metadata": {},
   "outputs": [],
   "source": []
  }
 ],
 "metadata": {
  "kernelspec": {
   "display_name": "venv",
   "language": "python",
   "name": "python3"
  },
  "language_info": {
   "name": "python",
   "version": "3.13.3"
  }
 },
 "nbformat": 4,
 "nbformat_minor": 5
}
