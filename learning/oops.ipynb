{
 "cells": [
  {
   "cell_type": "markdown",
   "id": "b2deb862",
   "metadata": {},
   "source": [
    "<div style= \"background:#BDDDE4;color:#000;margin:20px;padding:20px;border: 4px solid #000;border-radius:8px;box-shadow : 8px 8px 0 #000;box-sizing:border-box;width:95%;font-family: 'Courier New', monospace; font-size:24px\">\n",
    "<h1 style= \"text-align:center;margin-bottom:0;padding:10px\"><b>Object Oriented Programming</b></h1>\n",
    "    <hr style= \"width:90%;margin-top:0\">\n",
    "    <ul>\n",
    "        <li>Object-oriented programming is a programming paradigm that bundles data and function into one individual unit.</li>\n",
    "        <li>OOP simplifies modelling real world concept.</li>\n",
    "        <li>Helps to make systems that are reusable and scalable.</li>\n",
    "        <li>We start by defining <b style= \"color:#E22F1D;\">Classes</b> which acts as blueprint for the objects we create from them.</li>\n",
    "        <li><b style= \"color:#E22F1D;\">Objects</b> are like real world things like a car, a student or a bank account that have \n",
    "            <ul>\n",
    "                <li><b style= \"color:#E22F1D;\">Attributes(properties)</b> like <i>color</i>, <i>name</i> or <i>balance.</i></li>\n",
    "                <li><b style= \"color:#E22F1D;\">Behaviors(method)</b> like <i>drive()</i>, <i>study()</i> or <i>withdraw().</i></li>\n",
    "            <ul>\n",
    "        </li>\n",
    "    </ul>\n",
    "</div>"
   ]
  },
  {
   "cell_type": "code",
   "execution_count": null,
   "id": "0b0ce532",
   "metadata": {},
   "outputs": [],
   "source": []
  }
 ],
 "metadata": {
  "kernelspec": {
   "display_name": "venv",
   "language": "python",
   "name": "python3"
  },
  "language_info": {
   "name": "python",
   "version": "3.13.3"
  }
 },
 "nbformat": 4,
 "nbformat_minor": 5
}
